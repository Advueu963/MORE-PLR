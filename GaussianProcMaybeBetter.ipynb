{
 "cells": [
  {
   "cell_type": "code",
   "execution_count": 1,
   "outputs": [],
   "source": [
    "import numpy as np\n",
    "import pandas as pd"
   ],
   "metadata": {
    "collapsed": false,
    "ExecuteTime": {
     "end_time": "2024-03-15T09:08:23.277390Z",
     "start_time": "2024-03-15T09:08:23.055445Z"
    }
   }
  },
  {
   "cell_type": "code",
   "execution_count": 2,
   "outputs": [],
   "source": [
    "new_model = 'GaussianProcess'\n",
    "jc = 'RF-JC'"
   ],
   "metadata": {
    "collapsed": false,
    "ExecuteTime": {
     "end_time": "2024-03-15T09:08:23.281202Z",
     "start_time": "2024-03-15T09:08:23.278677Z"
    }
   }
  },
  {
   "cell_type": "code",
   "execution_count": 3,
   "metadata": {
    "collapsed": true,
    "ExecuteTime": {
     "end_time": "2024-03-15T09:08:23.298638Z",
     "start_time": "2024-03-15T09:08:23.282057Z"
    }
   },
   "outputs": [
    {
     "data": {
      "text/plain": "         data  tau_x_score  prediction_time  buckets_per_rank             algo\n0  Authorship     0.935897         0.779086          3.160000  GaussianProcess\n1  Authorship     0.937500         0.700813          3.125000  GaussianProcess\n2  Authorship     0.932540         0.701579          3.200000  GaussianProcess\n3  Authorship     0.920635         0.699481          3.142857  GaussianProcess\n4  Authorship     0.940476         0.701659          3.294118  GaussianProcess\n5  Authorship     0.858974         0.551200          2.866667            RF-JC\n6  Authorship     0.898810         0.536230          2.923077            RF-JC\n7  Authorship     0.894841         0.539481          2.857143            RF-JC\n8  Authorship     0.865079         0.541508          2.705882            RF-JC\n9  Authorship     0.893849         0.538352          2.857143            RF-JC",
      "text/html": "<div>\n<style scoped>\n    .dataframe tbody tr th:only-of-type {\n        vertical-align: middle;\n    }\n\n    .dataframe tbody tr th {\n        vertical-align: top;\n    }\n\n    .dataframe thead th {\n        text-align: right;\n    }\n</style>\n<table border=\"1\" class=\"dataframe\">\n  <thead>\n    <tr style=\"text-align: right;\">\n      <th></th>\n      <th>data</th>\n      <th>tau_x_score</th>\n      <th>prediction_time</th>\n      <th>buckets_per_rank</th>\n      <th>algo</th>\n    </tr>\n  </thead>\n  <tbody>\n    <tr>\n      <th>0</th>\n      <td>Authorship</td>\n      <td>0.935897</td>\n      <td>0.779086</td>\n      <td>3.160000</td>\n      <td>GaussianProcess</td>\n    </tr>\n    <tr>\n      <th>1</th>\n      <td>Authorship</td>\n      <td>0.937500</td>\n      <td>0.700813</td>\n      <td>3.125000</td>\n      <td>GaussianProcess</td>\n    </tr>\n    <tr>\n      <th>2</th>\n      <td>Authorship</td>\n      <td>0.932540</td>\n      <td>0.701579</td>\n      <td>3.200000</td>\n      <td>GaussianProcess</td>\n    </tr>\n    <tr>\n      <th>3</th>\n      <td>Authorship</td>\n      <td>0.920635</td>\n      <td>0.699481</td>\n      <td>3.142857</td>\n      <td>GaussianProcess</td>\n    </tr>\n    <tr>\n      <th>4</th>\n      <td>Authorship</td>\n      <td>0.940476</td>\n      <td>0.701659</td>\n      <td>3.294118</td>\n      <td>GaussianProcess</td>\n    </tr>\n    <tr>\n      <th>5</th>\n      <td>Authorship</td>\n      <td>0.858974</td>\n      <td>0.551200</td>\n      <td>2.866667</td>\n      <td>RF-JC</td>\n    </tr>\n    <tr>\n      <th>6</th>\n      <td>Authorship</td>\n      <td>0.898810</td>\n      <td>0.536230</td>\n      <td>2.923077</td>\n      <td>RF-JC</td>\n    </tr>\n    <tr>\n      <th>7</th>\n      <td>Authorship</td>\n      <td>0.894841</td>\n      <td>0.539481</td>\n      <td>2.857143</td>\n      <td>RF-JC</td>\n    </tr>\n    <tr>\n      <th>8</th>\n      <td>Authorship</td>\n      <td>0.865079</td>\n      <td>0.541508</td>\n      <td>2.705882</td>\n      <td>RF-JC</td>\n    </tr>\n    <tr>\n      <th>9</th>\n      <td>Authorship</td>\n      <td>0.893849</td>\n      <td>0.538352</td>\n      <td>2.857143</td>\n      <td>RF-JC</td>\n    </tr>\n  </tbody>\n</table>\n</div>"
     },
     "execution_count": 3,
     "metadata": {},
     "output_type": "execute_result"
    }
   ],
   "source": [
    "data_frame = pd.read_csv(\"../data/MultiRegression/gaussianProcess.csv\",index_col=0)\n",
    "data_frame.head(10)"
   ]
  },
  {
   "cell_type": "code",
   "execution_count": 4,
   "outputs": [
    {
     "data": {
      "text/plain": "                            tau_x_score  prediction_time  buckets_per_rank\nalgo            data                                                      \nGaussianProcess Authorship     0.006032         0.027428          0.052783\n                IRIS           0.023374         0.008466          0.112311\n                WINE           0.030404         0.001411          0.078212\n                YEAST          0.004570         0.004273          0.027883\nRF-JC           Authorship     0.014688         0.004567          0.063413\n                IRIS           0.034296         0.001295          0.067223\n                WINE           0.024321         0.001288          0.023856\n                YEAST          0.005489         0.013415          0.029220",
      "text/html": "<div>\n<style scoped>\n    .dataframe tbody tr th:only-of-type {\n        vertical-align: middle;\n    }\n\n    .dataframe tbody tr th {\n        vertical-align: top;\n    }\n\n    .dataframe thead th {\n        text-align: right;\n    }\n</style>\n<table border=\"1\" class=\"dataframe\">\n  <thead>\n    <tr style=\"text-align: right;\">\n      <th></th>\n      <th></th>\n      <th>tau_x_score</th>\n      <th>prediction_time</th>\n      <th>buckets_per_rank</th>\n    </tr>\n    <tr>\n      <th>algo</th>\n      <th>data</th>\n      <th></th>\n      <th></th>\n      <th></th>\n    </tr>\n  </thead>\n  <tbody>\n    <tr>\n      <th rowspan=\"4\" valign=\"top\">GaussianProcess</th>\n      <th>Authorship</th>\n      <td>0.006032</td>\n      <td>0.027428</td>\n      <td>0.052783</td>\n    </tr>\n    <tr>\n      <th>IRIS</th>\n      <td>0.023374</td>\n      <td>0.008466</td>\n      <td>0.112311</td>\n    </tr>\n    <tr>\n      <th>WINE</th>\n      <td>0.030404</td>\n      <td>0.001411</td>\n      <td>0.078212</td>\n    </tr>\n    <tr>\n      <th>YEAST</th>\n      <td>0.004570</td>\n      <td>0.004273</td>\n      <td>0.027883</td>\n    </tr>\n    <tr>\n      <th rowspan=\"4\" valign=\"top\">RF-JC</th>\n      <th>Authorship</th>\n      <td>0.014688</td>\n      <td>0.004567</td>\n      <td>0.063413</td>\n    </tr>\n    <tr>\n      <th>IRIS</th>\n      <td>0.034296</td>\n      <td>0.001295</td>\n      <td>0.067223</td>\n    </tr>\n    <tr>\n      <th>WINE</th>\n      <td>0.024321</td>\n      <td>0.001288</td>\n      <td>0.023856</td>\n    </tr>\n    <tr>\n      <th>YEAST</th>\n      <td>0.005489</td>\n      <td>0.013415</td>\n      <td>0.029220</td>\n    </tr>\n  </tbody>\n</table>\n</div>"
     },
     "execution_count": 4,
     "metadata": {},
     "output_type": "execute_result"
    }
   ],
   "source": [
    "v = data_frame.groupby(by=['algo','data']).apply(lambda x:np.std(x,axis=0)/np.sqrt(5)*1.96)\n",
    "v"
   ],
   "metadata": {
    "collapsed": false,
    "ExecuteTime": {
     "end_time": "2024-03-15T09:08:23.304835Z",
     "start_time": "2024-03-15T09:08:23.297821Z"
    }
   }
  },
  {
   "cell_type": "code",
   "execution_count": 5,
   "outputs": [
    {
     "data": {
      "text/plain": "                            tau_x_score  prediction_time  buckets_per_rank\nalgo            data                                                      \nGaussianProcess Authorship     0.939442         0.743951          3.237178\n                IRIS           0.981152         0.198203          2.964692\n                WINE           0.903314         0.229641          2.562339\n                YEAST          0.814798         0.998719          5.293296\nRF-JC           Authorship     0.896998         0.545921          2.905395\n                IRIS           0.967629         0.351934          2.769604\n                WINE           0.901094         0.356757          2.490523\n                YEAST          0.817436         1.605028          4.796215",
      "text/html": "<div>\n<style scoped>\n    .dataframe tbody tr th:only-of-type {\n        vertical-align: middle;\n    }\n\n    .dataframe tbody tr th {\n        vertical-align: top;\n    }\n\n    .dataframe thead th {\n        text-align: right;\n    }\n</style>\n<table border=\"1\" class=\"dataframe\">\n  <thead>\n    <tr style=\"text-align: right;\">\n      <th></th>\n      <th></th>\n      <th>tau_x_score</th>\n      <th>prediction_time</th>\n      <th>buckets_per_rank</th>\n    </tr>\n    <tr>\n      <th>algo</th>\n      <th>data</th>\n      <th></th>\n      <th></th>\n      <th></th>\n    </tr>\n  </thead>\n  <tbody>\n    <tr>\n      <th rowspan=\"4\" valign=\"top\">GaussianProcess</th>\n      <th>Authorship</th>\n      <td>0.939442</td>\n      <td>0.743951</td>\n      <td>3.237178</td>\n    </tr>\n    <tr>\n      <th>IRIS</th>\n      <td>0.981152</td>\n      <td>0.198203</td>\n      <td>2.964692</td>\n    </tr>\n    <tr>\n      <th>WINE</th>\n      <td>0.903314</td>\n      <td>0.229641</td>\n      <td>2.562339</td>\n    </tr>\n    <tr>\n      <th>YEAST</th>\n      <td>0.814798</td>\n      <td>0.998719</td>\n      <td>5.293296</td>\n    </tr>\n    <tr>\n      <th rowspan=\"4\" valign=\"top\">RF-JC</th>\n      <th>Authorship</th>\n      <td>0.896998</td>\n      <td>0.545921</td>\n      <td>2.905395</td>\n    </tr>\n    <tr>\n      <th>IRIS</th>\n      <td>0.967629</td>\n      <td>0.351934</td>\n      <td>2.769604</td>\n    </tr>\n    <tr>\n      <th>WINE</th>\n      <td>0.901094</td>\n      <td>0.356757</td>\n      <td>2.490523</td>\n    </tr>\n    <tr>\n      <th>YEAST</th>\n      <td>0.817436</td>\n      <td>1.605028</td>\n      <td>4.796215</td>\n    </tr>\n  </tbody>\n</table>\n</div>"
     },
     "execution_count": 5,
     "metadata": {},
     "output_type": "execute_result"
    }
   ],
   "source": [
    "top_values = data_frame.groupby(by=['algo','data']).apply(lambda x:np.mean(x,axis=0) + np.std(x,axis=0)/np.sqrt(5)*1.96)\n",
    "top_values\n"
   ],
   "metadata": {
    "collapsed": false,
    "ExecuteTime": {
     "end_time": "2024-03-15T09:08:23.416303Z",
     "start_time": "2024-03-15T09:08:23.312294Z"
    }
   }
  },
  {
   "cell_type": "code",
   "execution_count": 6,
   "outputs": [
    {
     "data": {
      "text/plain": "                            tau_x_score  prediction_time  buckets_per_rank\nalgo            data                                                      \nGaussianProcess Authorship     0.927377         0.689096          3.131612\n                IRIS           0.934403         0.181270          2.740070\n                WINE           0.842506         0.226820          2.405915\n                YEAST          0.805659         0.990173          5.237530\nRF-JC           Authorship     0.867623         0.536787          2.778570\n                IRIS           0.899038         0.349344          2.635158\n                WINE           0.852451         0.354181          2.442810\n                YEAST          0.806457         1.578199          4.737775",
      "text/html": "<div>\n<style scoped>\n    .dataframe tbody tr th:only-of-type {\n        vertical-align: middle;\n    }\n\n    .dataframe tbody tr th {\n        vertical-align: top;\n    }\n\n    .dataframe thead th {\n        text-align: right;\n    }\n</style>\n<table border=\"1\" class=\"dataframe\">\n  <thead>\n    <tr style=\"text-align: right;\">\n      <th></th>\n      <th></th>\n      <th>tau_x_score</th>\n      <th>prediction_time</th>\n      <th>buckets_per_rank</th>\n    </tr>\n    <tr>\n      <th>algo</th>\n      <th>data</th>\n      <th></th>\n      <th></th>\n      <th></th>\n    </tr>\n  </thead>\n  <tbody>\n    <tr>\n      <th rowspan=\"4\" valign=\"top\">GaussianProcess</th>\n      <th>Authorship</th>\n      <td>0.927377</td>\n      <td>0.689096</td>\n      <td>3.131612</td>\n    </tr>\n    <tr>\n      <th>IRIS</th>\n      <td>0.934403</td>\n      <td>0.181270</td>\n      <td>2.740070</td>\n    </tr>\n    <tr>\n      <th>WINE</th>\n      <td>0.842506</td>\n      <td>0.226820</td>\n      <td>2.405915</td>\n    </tr>\n    <tr>\n      <th>YEAST</th>\n      <td>0.805659</td>\n      <td>0.990173</td>\n      <td>5.237530</td>\n    </tr>\n    <tr>\n      <th rowspan=\"4\" valign=\"top\">RF-JC</th>\n      <th>Authorship</th>\n      <td>0.867623</td>\n      <td>0.536787</td>\n      <td>2.778570</td>\n    </tr>\n    <tr>\n      <th>IRIS</th>\n      <td>0.899038</td>\n      <td>0.349344</td>\n      <td>2.635158</td>\n    </tr>\n    <tr>\n      <th>WINE</th>\n      <td>0.852451</td>\n      <td>0.354181</td>\n      <td>2.442810</td>\n    </tr>\n    <tr>\n      <th>YEAST</th>\n      <td>0.806457</td>\n      <td>1.578199</td>\n      <td>4.737775</td>\n    </tr>\n  </tbody>\n</table>\n</div>"
     },
     "execution_count": 6,
     "metadata": {},
     "output_type": "execute_result"
    }
   ],
   "source": [
    "bottom_values = data_frame.groupby(by=['algo','data']).apply(lambda x:np.mean(x,axis=0) - np.std(x,axis=0)/np.sqrt(5)*1.96)\n",
    "bottom_values"
   ],
   "metadata": {
    "collapsed": false,
    "ExecuteTime": {
     "end_time": "2024-03-15T09:08:23.433373Z",
     "start_time": "2024-03-15T09:08:23.334745Z"
    }
   }
  },
  {
   "cell_type": "code",
   "execution_count": 7,
   "outputs": [
    {
     "data": {
      "text/plain": "array(['GaussianProcess', 'RF-JC'], dtype='<U15')"
     },
     "execution_count": 7,
     "metadata": {},
     "output_type": "execute_result"
    }
   ],
   "source": [
    "algo_names,data_sets= np.array([*bottom_values.index]).T\n",
    "np.unique(algo_names)"
   ],
   "metadata": {
    "collapsed": false,
    "ExecuteTime": {
     "end_time": "2024-03-15T09:08:23.433667Z",
     "start_time": "2024-03-15T09:08:23.337408Z"
    }
   }
  },
  {
   "cell_type": "code",
   "execution_count": 8,
   "outputs": [],
   "source": [
    "#algo1,algo2 = np.unique(algo_names)\n",
    "\n",
    "data_sets = np.unique(data_sets)"
   ],
   "metadata": {
    "collapsed": false,
    "ExecuteTime": {
     "end_time": "2024-03-15T09:08:23.433744Z",
     "start_time": "2024-03-15T09:08:23.341507Z"
    }
   }
  },
  {
   "cell_type": "code",
   "execution_count": 9,
   "outputs": [
    {
     "name": "stdout",
     "output_type": "stream",
     "text": [
      "DATA:  Authorship\n",
      "GaussianProcess:  0.9273773455342154 0.9273773455342154\n",
      "JC:  0.8676232041293563 0.8676232041293563\n",
      "---\n",
      "DATA:  IRIS\n",
      "GaussianProcess:  0.9344034138529799 0.9344034138529799\n",
      "JC:  0.8990376545931931 0.8990376545931931\n",
      "---\n",
      "DATA:  WINE\n",
      "GaussianProcess:  0.842506433170317 0.842506433170317\n",
      "JC:  0.8524511933984603 0.8524511933984603\n",
      "---\n",
      "DATA:  YEAST\n",
      "GaussianProcess:  0.8056589843113022 0.8056589843113022\n",
      "JC:  0.8064570571024852 0.8064570571024852\n",
      "---\n",
      "SIGINIFICANT BETTER:  0.5\n",
      "OVERLAPPING:  0.0\n",
      "WORSE:  0.5\n"
     ]
    }
   ],
   "source": [
    "significant_better = 0\n",
    "overlapping = 0\n",
    "for data in data_sets:\n",
    "    new_model_bottom_tau,jc_bottom_tau = bottom_values.loc[(new_model,data),'tau_x_score'],bottom_values.loc[(jc,data),'tau_x_score']\n",
    "    new_model_top_tau,jc_top_tau = bottom_values.loc[(new_model,data),'tau_x_score'],bottom_values.loc[(jc,data),'tau_x_score']\n",
    "    print(\"DATA: \", data)\n",
    "    print(f\"{new_model}: \", new_model_bottom_tau, new_model_top_tau)\n",
    "    print(\"JC: \", jc_bottom_tau, jc_top_tau)\n",
    "    print(\"---\")\n",
    "    if jc_top_tau < new_model_bottom_tau:\n",
    "        significant_better += 1\n",
    "    if new_model_bottom_tau <= jc_top_tau and jc_bottom_tau <= new_model_top_tau:\n",
    "        overlapping += 1\n",
    "print(\"SIGINIFICANT BETTER: \", significant_better / len(data_sets))\n",
    "print(\"OVERLAPPING: \", overlapping / len(data_sets))\n",
    "print(\"WORSE: \", 1 - (significant_better / len(data_sets) + overlapping / len(data_sets)))\n"
   ],
   "metadata": {
    "collapsed": false,
    "ExecuteTime": {
     "end_time": "2024-03-15T09:08:23.434699Z",
     "start_time": "2024-03-15T09:08:23.348806Z"
    }
   }
  },
  {
   "cell_type": "code",
   "execution_count": 9,
   "outputs": [],
   "source": [],
   "metadata": {
    "collapsed": false,
    "ExecuteTime": {
     "end_time": "2024-03-15T09:08:23.434773Z",
     "start_time": "2024-03-15T09:08:23.351947Z"
    }
   }
  }
 ],
 "metadata": {
  "kernelspec": {
   "display_name": "Python 3",
   "language": "python",
   "name": "python3"
  },
  "language_info": {
   "codemirror_mode": {
    "name": "ipython",
    "version": 2
   },
   "file_extension": ".py",
   "mimetype": "text/x-python",
   "name": "python",
   "nbconvert_exporter": "python",
   "pygments_lexer": "ipython2",
   "version": "2.7.6"
  }
 },
 "nbformat": 4,
 "nbformat_minor": 0
}
